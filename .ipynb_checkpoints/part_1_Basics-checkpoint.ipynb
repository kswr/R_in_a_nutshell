{
 "cells": [
  {
   "cell_type": "markdown",
   "metadata": {},
   "source": [
    "# Preface\n",
    "\n",
    "[GNU foundation's FAQ on GPL](http://www.gnu.org/licenses/gplfaq) - Handy when it comes to rights to extensions written for R (when you write code that is only interpreted by R, then no rigth bounds apply)\n",
    "\n",
    "# Part I. R Basics\n",
    "\n",
    "- installing\n",
    "- packages (installing, usage)\n",
    "- quick tutorial\n",
    "- overview of R features\n",
    "\n",
    "## Chapter 1. Getting and Installing R\n",
    "\n",
    "## Chapter 2. The R User Interface\n",
    "\n",
    "### Command line editing\n",
    "\n",
    "Lets user type commands into R interactive shell and get computed results immediately\n",
    "\n",
    "### Batch mode \n",
    "\n",
    "Provides way to run large set of commands in sequence and save the results to a file using `CMD` or `RScript` command\n",
    "\n",
    "```\n",
    "R CMD BATCH generate_graphs.R\n",
    "```\n",
    "or\n",
    "```\n",
    "RScript generate_graphs.R\n",
    "```\n",
    "\n",
    "#### Executable batch file\n",
    "\n",
    "Contents (mind the shebang)\n",
    "```\n",
    "#! /usr/bin/env RScript\n",
    "\n",
    "print(\"Hello world!\");\n",
    "```\n",
    "Commands\n",
    "```\n",
    "# making executable\n",
    "chmod +x hello_world.R\n",
    "\n",
    "# executing\n",
    "./hello_world.R\n",
    "```\n",
    "\n",
    "#### Executing batch file from inside R\n",
    "\n",
    "`source` command\n",
    "\n",
    "### R and other technologies (some libs are obsolete)\n",
    "\n",
    "- MS Excel (many packages)\n",
    "- rApache (R analysis in web app)\n",
    "- Rserve (binary R server for multiple users)\n",
    "- ESS - Emacs Speaks Statistics (package for using R inside Emacs)\n",
    "\n",
    "## Chapter 3. A Short R Tutorial\n",
    "\n",
    "In R `\"Hello world.\"` is a character vector of length 1.\n",
    "\n",
    "`c(\"Hello\",\"World\")` is a character vector of length 2.\n",
    "\n",
    "To test it type: "
   ]
  },
  {
   "cell_type": "code",
   "execution_count": 14,
   "metadata": {},
   "outputs": [
    {
     "data": {
      "text/html": [
       "2"
      ],
      "text/latex": [
       "2"
      ],
      "text/markdown": [
       "2"
      ],
      "text/plain": [
       "[1] 2"
      ]
     },
     "metadata": {},
     "output_type": "display_data"
    }
   ],
   "source": [
    "length(c('hello','hello'))"
   ]
  },
  {
   "cell_type": "markdown",
   "metadata": {},
   "source": [
    "Therefore there is no string concept in R, each character vector can store more than one character.\n",
    "\n",
    "### Functions\n",
    "\n",
    "Functions take arguments and processes them, they can take form of `f(...)` or operator (e.g. addition `+`, exponentiation `^` or equality `==` operator)\n",
    "\n",
    "Functions are assigned like variables\n",
    "```\n",
    "f <- function(x,y) {c(x+1, y+1)}\n",
    "```\n",
    "(to see code for existing function, type it's name without `()`)\n",
    "\n",
    "### Data Structures\n",
    "\n",
    "Array - one data type vector that's associated with a dimension attribute\n",
    "\n",
    "  - can have more than 2 dimensions\n",
    "  \n",
    "```\n",
    "> a <- array(c(1:12), dim=c(3,4))\n",
    "```\n",
    "Matrix - two dimensional array\n",
    "\n",
    "List  \n",
    "\n",
    "  - vector containing multiple objects of possibly varius data types\n",
    "  - each component in a list can be named\n",
    "  - objects can be referred by location or name\n",
    "  - can contain other lists"
   ]
  },
  {
   "cell_type": "code",
   "execution_count": 13,
   "metadata": {},
   "outputs": [
    {
     "data": {
      "text/html": [
       "<dl>\n",
       "\t<dt>$thing</dt>\n",
       "\t\t<dd>'hat'</dd>\n",
       "\t<dt>$size</dt>\n",
       "\t\t<dd>'8.25'</dd>\n",
       "</dl>\n"
      ],
      "text/latex": [
       "\\begin{description}\n",
       "\\item[\\$thing] 'hat'\n",
       "\\item[\\$size] '8.25'\n",
       "\\end{description}\n"
      ],
      "text/markdown": [
       "$thing\n",
       ":   'hat'\n",
       "$size\n",
       ":   '8.25'\n",
       "\n",
       "\n"
      ],
      "text/plain": [
       "$thing\n",
       "[1] \"hat\"\n",
       "\n",
       "$size\n",
       "[1] \"8.25\"\n"
      ]
     },
     "metadata": {},
     "output_type": "display_data"
    }
   ],
   "source": [
    "# a list containing two strings\n",
    "e <- list(thing='hat', size='8.25')\n",
    "e"
   ]
  },
  {
   "cell_type": "code",
   "execution_count": 12,
   "metadata": {},
   "outputs": [
    {
     "data": {
      "text/html": [
       "'hat'"
      ],
      "text/latex": [
       "'hat'"
      ],
      "text/markdown": [
       "'hat'"
      ],
      "text/plain": [
       "[1] \"hat\""
      ]
     },
     "metadata": {},
     "output_type": "display_data"
    }
   ],
   "source": [
    "e$thing"
   ]
  },
  {
   "cell_type": "code",
   "execution_count": 11,
   "metadata": {},
   "outputs": [
    {
     "data": {
      "text/html": [
       "<strong>$thing</strong> = 'hat'"
      ],
      "text/latex": [
       "\\textbf{\\$thing} = 'hat'"
      ],
      "text/markdown": [
       "**$thing** = 'hat'"
      ],
      "text/plain": [
       "$thing\n",
       "[1] \"hat\"\n"
      ]
     },
     "metadata": {},
     "output_type": "display_data"
    }
   ],
   "source": [
    "e[1]"
   ]
  },
  {
   "cell_type": "code",
   "execution_count": 10,
   "metadata": {},
   "outputs": [
    {
     "data": {
      "text/html": [
       "'hat'"
      ],
      "text/latex": [
       "'hat'"
      ],
      "text/markdown": [
       "'hat'"
      ],
      "text/plain": [
       "[1] \"hat\""
      ]
     },
     "metadata": {},
     "output_type": "display_data"
    }
   ],
   "source": [
    "e[[1]]"
   ]
  },
  {
   "cell_type": "code",
   "execution_count": 9,
   "metadata": {},
   "outputs": [
    {
     "data": {
      "text/html": [
       "<dl>\n",
       "\t<dt>$element_1</dt>\n",
       "\t\t<dd>'element one'</dd>\n",
       "\t<dt>$other_list</dt>\n",
       "\t\t<dd><dl>\n",
       "\t<dt>$thing</dt>\n",
       "\t\t<dd>'hat'</dd>\n",
       "\t<dt>$size</dt>\n",
       "\t\t<dd>'8.25'</dd>\n",
       "</dl>\n",
       "</dd>\n",
       "</dl>\n"
      ],
      "text/latex": [
       "\\begin{description}\n",
       "\\item[\\$element\\_1] 'element one'\n",
       "\\item[\\$other\\_list] \\begin{description}\n",
       "\\item[\\$thing] 'hat'\n",
       "\\item[\\$size] '8.25'\n",
       "\\end{description}\n",
       "\n",
       "\\end{description}\n"
      ],
      "text/markdown": [
       "$element_1\n",
       ":   'element one'\n",
       "$other_list\n",
       ":   $thing\n",
       ":   'hat'\n",
       "$size\n",
       ":   '8.25'\n",
       "\n",
       "\n",
       "\n",
       "\n",
       "\n"
      ],
      "text/plain": [
       "$element_1\n",
       "[1] \"element one\"\n",
       "\n",
       "$other_list\n",
       "$other_list$thing\n",
       "[1] \"hat\"\n",
       "\n",
       "$other_list$size\n",
       "[1] \"8.25\"\n",
       "\n"
      ]
     },
     "metadata": {},
     "output_type": "display_data"
    }
   ],
   "source": [
    "g <- list(element_1 = 'element one',other_list = e)\n",
    "g"
   ]
  },
  {
   "cell_type": "markdown",
   "metadata": {},
   "source": [
    "Data frame\n",
    "\n",
    "  - list\n",
    "  - contains multiple vectors (optionally of various types)\n",
    "  - each vector has to be the same length"
   ]
  },
  {
   "cell_type": "code",
   "execution_count": 7,
   "metadata": {},
   "outputs": [
    {
     "data": {
      "text/html": [
       "<table>\n",
       "<thead><tr><th scope=col>teams</th><th scope=col>w</th><th scope=col>l</th></tr></thead>\n",
       "<tbody>\n",
       "\t<tr><td>PHI</td><td>92 </td><td> 70</td></tr>\n",
       "\t<tr><td>NYM</td><td>89 </td><td> 73</td></tr>\n",
       "\t<tr><td>FLA</td><td>94 </td><td> 77</td></tr>\n",
       "\t<tr><td>ATL</td><td>72 </td><td> 90</td></tr>\n",
       "\t<tr><td>WSN</td><td>59 </td><td>102</td></tr>\n",
       "</tbody>\n",
       "</table>\n"
      ],
      "text/latex": [
       "\\begin{tabular}{r|lll}\n",
       " teams & w & l\\\\\n",
       "\\hline\n",
       "\t PHI & 92  &  70\\\\\n",
       "\t NYM & 89  &  73\\\\\n",
       "\t FLA & 94  &  77\\\\\n",
       "\t ATL & 72  &  90\\\\\n",
       "\t WSN & 59  & 102\\\\\n",
       "\\end{tabular}\n"
      ],
      "text/markdown": [
       "\n",
       "teams | w | l | \n",
       "|---|---|---|---|---|\n",
       "| PHI | 92  |  70 | \n",
       "| NYM | 89  |  73 | \n",
       "| FLA | 94  |  77 | \n",
       "| ATL | 72  |  90 | \n",
       "| WSN | 59  | 102 | \n",
       "\n",
       "\n"
      ],
      "text/plain": [
       "  teams w  l  \n",
       "1 PHI   92  70\n",
       "2 NYM   89  73\n",
       "3 FLA   94  77\n",
       "4 ATL   72  90\n",
       "5 WSN   59 102"
      ]
     },
     "metadata": {},
     "output_type": "display_data"
    }
   ],
   "source": [
    "# creating df\n",
    "teams <- c('PHI','NYM','FLA','ATL','WSN')\n",
    "w <- c(92,89,94,72,59)\n",
    "l <- c(70,73,77,90,102)\n",
    "nleast <- data.frame(teams,w,l)\n",
    "nleast"
   ]
  },
  {
   "cell_type": "code",
   "execution_count": 8,
   "metadata": {
    "scrolled": true
   },
   "outputs": [
    {
     "data": {
      "text/html": [
       "77"
      ],
      "text/latex": [
       "77"
      ],
      "text/markdown": [
       "77"
      ],
      "text/plain": [
       "[1] 77"
      ]
     },
     "metadata": {},
     "output_type": "display_data"
    }
   ],
   "source": [
    "# get number of loses by Florida Marlins\n",
    "nleast$l[nleast$teams=='FLA']"
   ]
  },
  {
   "cell_type": "markdown",
   "metadata": {},
   "source": [
    "### Objects and Classes\n",
    "\n",
    "Functions available only for specific classes are called methods (duh)"
   ]
  },
  {
   "cell_type": "code",
   "execution_count": null,
   "metadata": {
    "collapsed": true
   },
   "outputs": [],
   "source": []
  }
 ],
 "metadata": {
  "kernelspec": {
   "display_name": "R",
   "language": "R",
   "name": "ir"
  },
  "language_info": {
   "codemirror_mode": "r",
   "file_extension": ".r",
   "mimetype": "text/x-r-source",
   "name": "R",
   "pygments_lexer": "r",
   "version": "3.4.0"
  }
 },
 "nbformat": 4,
 "nbformat_minor": 2
}
